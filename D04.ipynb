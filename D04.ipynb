{
 "cells": [
  {
   "cell_type": "code",
   "execution_count": 1,
   "metadata": {},
   "outputs": [],
   "source": [
    "import cv2\n",
    "import time\n",
    "import numpy as np\n",
    "\n",
    "img = cv2.imread('mei.jpg')"
   ]
  },
  {
   "cell_type": "markdown",
   "metadata": {},
   "source": [
    "##### 水平翻轉"
   ]
  },
  {
   "cell_type": "code",
   "execution_count": 2,
   "metadata": {},
   "outputs": [],
   "source": [
    "img_h = img[:,::-1,:]"
   ]
  },
  {
   "cell_type": "markdown",
   "metadata": {},
   "source": [
    "##### 垂直翻轉"
   ]
  },
  {
   "cell_type": "code",
   "execution_count": 3,
   "metadata": {},
   "outputs": [],
   "source": [
    "img_v = img[::-1,:,:]"
   ]
  },
  {
   "cell_type": "code",
   "execution_count": 4,
   "metadata": {},
   "outputs": [],
   "source": [
    "while True:\n",
    "    cv2.imshow('horizontal',img_h)\n",
    "    cv2.imshow('vertical',img_v)\n",
    "    \n",
    "    k = cv2.waitKey(0)\n",
    "    if k == 27:\n",
    "        cv2.destroyAllWindows()\n",
    "        break"
   ]
  },
  {
   "cell_type": "code",
   "execution_count": 21,
   "metadata": {},
   "outputs": [],
   "source": [
    "img_test = cv2.resize(img, None , fx=0.2,fy=0.2)"
   ]
  },
  {
   "cell_type": "code",
   "execution_count": 29,
   "metadata": {},
   "outputs": [
    {
     "name": "stdout",
     "output_type": "stream",
     "text": [
      "INTER_NEAREST zoom cost 1.2160136699676514\n"
     ]
    }
   ],
   "source": [
    "start_time = time.time()\n",
    "img_area_scale = cv2.resize(img_test,None,fx=8,fy=8,interpolation=cv2.INTER_NEAREST)\n",
    "print('INTER_NEAREST zoom cost {}'.format(time.time()-start_time))"
   ]
  },
  {
   "cell_type": "code",
   "execution_count": 28,
   "metadata": {},
   "outputs": [
    {
     "name": "stdout",
     "output_type": "stream",
     "text": [
      "INTER_CUBIC zoom cost 0.8582949638366699\n"
     ]
    }
   ],
   "source": [
    "start_time = time.time()\n",
    "img_cubic_scale= cv2.resize(img_test,None,fx=8,fy=8,interpolation=cv2.INTER_CUBIC)\n",
    "print('INTER_CUBIC zoom cost {}'.format(time.time()-start_time))"
   ]
  },
  {
   "cell_type": "code",
   "execution_count": 30,
   "metadata": {},
   "outputs": [],
   "source": [
    "img_collection = np.hstack((img_area_scale, img_cubic_scale))"
   ]
  },
  {
   "cell_type": "code",
   "execution_count": 32,
   "metadata": {},
   "outputs": [],
   "source": [
    "while True:\n",
    "    cv2.imshow('new', img_collection)\n",
    "    k = cv2.waitKey(0)\n",
    "    if k == 27:\n",
    "        cv2.destroyAllWindows()\n",
    "        break"
   ]
  },
  {
   "cell_type": "markdown",
   "metadata": {},
   "source": [
    "#####  嘗試把圖片縮小、翻轉後組合"
   ]
  },
  {
   "cell_type": "code",
   "execution_count": 40,
   "metadata": {},
   "outputs": [],
   "source": [
    "img_hv = img[::-1,::-1,:]\n",
    "hflip = np.hstack((img,img_h))\n",
    "vflip = np.hstack((img_v,img_hv))\n",
    "img_flip = np.vstack((hflip,vflip))\n",
    "\n",
    "img_try = cv2.resize(img_flip,None,fx=0.5,fy=0.5)\n",
    "while True:\n",
    "    cv2.imshow('try',img_try)\n",
    "    k=cv2.waitKey(0)\n",
    "    if k == 27:\n",
    "        cv2.destroyAllWindows()\n",
    "        break"
   ]
  },
  {
   "cell_type": "markdown",
   "metadata": {},
   "source": [
    "##### 平移幾何轉換"
   ]
  },
  {
   "cell_type": "code",
   "execution_count": 44,
   "metadata": {},
   "outputs": [],
   "source": [
    "M = np.array([[1,0,100],\n",
    "            [0,1,50]],dtype = np.float32)\n",
    "shift_img = cv2.warpAffine(img,M,(img.shape[1],img.shape[0]))"
   ]
  },
  {
   "cell_type": "code",
   "execution_count": 46,
   "metadata": {},
   "outputs": [],
   "source": [
    "img_shift = np.hstack((img, shift_img))\n",
    "\n",
    "while True:\n",
    "    cv2.imshow('shift',shift_img)\n",
    "    k = cv2.waitKey(0)\n",
    "    if k ==27:\n",
    "        cv2.destroyAllWindows()\n",
    "        break"
   ]
  }
 ],
 "metadata": {
  "kernelspec": {
   "display_name": "Python 3",
   "language": "python",
   "name": "python3"
  },
  "language_info": {
   "codemirror_mode": {
    "name": "ipython",
    "version": 3
   },
   "file_extension": ".py",
   "mimetype": "text/x-python",
   "name": "python",
   "nbconvert_exporter": "python",
   "pygments_lexer": "ipython3",
   "version": "3.6.5"
  }
 },
 "nbformat": 4,
 "nbformat_minor": 2
}
