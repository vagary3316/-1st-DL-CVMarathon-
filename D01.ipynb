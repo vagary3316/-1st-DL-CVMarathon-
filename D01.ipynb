{
 "cells": [
  {
   "cell_type": "code",
   "execution_count": 9,
   "metadata": {},
   "outputs": [],
   "source": [
    "import cv2\n",
    "img = cv2.imread('mei.jpg')"
   ]
  },
  {
   "cell_type": "code",
   "execution_count": 10,
   "metadata": {},
   "outputs": [
    {
     "data": {
      "text/plain": [
       "numpy.ndarray"
      ]
     },
     "execution_count": 10,
     "metadata": {},
     "output_type": "execute_result"
    }
   ],
   "source": [
    "type(img)\n"
   ]
  },
  {
   "cell_type": "code",
   "execution_count": 28,
   "metadata": {},
   "outputs": [],
   "source": [
    "img_col = cv2.imread('mei.jpg',cv2.IMREAD_COLOR)\n",
    "img_gray = cv2.imread('mei.jpg',cv2.IMREAD_GRAYSCALE)"
   ]
  },
  {
   "cell_type": "code",
   "execution_count": 29,
   "metadata": {},
   "outputs": [],
   "source": [
    "while True:\n",
    "    cv2.imshow('bgr',img_col)\n",
    "    cv2.imshow('gray',img_gray)\n",
    "    \n",
    "    k = cv2.waitKey(0)\n",
    "    if k == 27:\n",
    "        cv2.destroyAllWindows()\n",
    "        break"
   ]
  },
  {
   "cell_type": "code",
   "execution_count": 32,
   "metadata": {},
   "outputs": [],
   "source": [
    "import numpy as np\n",
    "img_concat = np.hstack((img_col[:,:,0],img_col[:,:,1],img_col[:,:,2]))\n",
    "\n",
    "R = img_col[:,:,0]\n",
    "G = img_col[:,:,1]\n",
    "B = img_col[:,:,2]\n",
    "\n",
    "while True:\n",
    "    cv2.imshow('bgr',img)\n",
    "    cv2.imshow('bgr_split',img_concat)\n",
    "    \n",
    "    k = cv2.waitKey(0)\n",
    "    if k == 27:\n",
    "        cv2.destroyAllWindows()\n",
    "        break"
   ]
  },
  {
   "cell_type": "code",
   "execution_count": 34,
   "metadata": {},
   "outputs": [],
   "source": [
    "img_concat = np.hstack((img_col[:,:,0],img_col[:,:,1],img_col[:,:,2]))\n",
    "R = img_col[:,:,0]\n",
    "G = img_col[:,:,1]\n",
    "B = img_col[:,:,2]\n",
    "\n",
    "while True:\n",
    "    cv2.imshow('R',R)\n",
    "    cv2.imshow('G',G)\n",
    "    cv2.imshow('B',B)\n",
    "    cv2.imshow('bgr_split',img_concat)\n",
    "    \n",
    "    k = cv2.waitKey(0)\n",
    "    if k == 27:\n",
    "        cv2.destroyAllWindows()\n",
    "        break"
   ]
  },
  {
   "cell_type": "code",
   "execution_count": 35,
   "metadata": {},
   "outputs": [
    {
     "data": {
      "text/plain": [
       "array([[ 37,  83,  39, ..., 255, 226, 219],\n",
       "       [ 31,  34,   0, ..., 255, 236, 221],\n",
       "       [ 46,  25,   6, ..., 251, 241, 250],\n",
       "       ...,\n",
       "       [  8,  12,  49, ..., 250, 252, 253],\n",
       "       [ 17,  40,  46, ..., 251, 253, 254],\n",
       "       [  0,  10,   0, ..., 251, 254, 254]], dtype=uint8)"
      ]
     },
     "execution_count": 35,
     "metadata": {},
     "output_type": "execute_result"
    }
   ],
   "source": [
    "img_concat"
   ]
  },
  {
   "cell_type": "code",
   "execution_count": 36,
   "metadata": {},
   "outputs": [
    {
     "data": {
      "text/plain": [
       "array([[[ 37,  59,  70],\n",
       "        [ 83, 105, 117],\n",
       "        [ 39,  59,  76],\n",
       "        ...,\n",
       "        [205, 255, 255],\n",
       "        [142, 205, 226],\n",
       "        [126, 196, 219]],\n",
       "\n",
       "       [[ 31,  51,  62],\n",
       "        [ 34,  53,  66],\n",
       "        [  0,  11,  28],\n",
       "        ...,\n",
       "        [202, 254, 255],\n",
       "        [150, 215, 236],\n",
       "        [128, 198, 221]],\n",
       "\n",
       "       [[ 46,  61,  77],\n",
       "        [ 25,  41,  57],\n",
       "        [  6,  26,  43],\n",
       "        ...,\n",
       "        [176, 235, 251],\n",
       "        [153, 220, 241],\n",
       "        [156, 226, 250]],\n",
       "\n",
       "       ...,\n",
       "\n",
       "       [[  8,  46,   0],\n",
       "        [ 12,  45,   0],\n",
       "        [ 49,  71,  42],\n",
       "        ...,\n",
       "        [220, 251, 250],\n",
       "        [216, 252, 252],\n",
       "        [215, 253, 253]],\n",
       "\n",
       "       [[ 17,  68,   0],\n",
       "        [ 40,  83,   8],\n",
       "        [ 46,  76,  35],\n",
       "        ...,\n",
       "        [219, 250, 251],\n",
       "        [213, 251, 253],\n",
       "        [213, 252, 254]],\n",
       "\n",
       "       [[  0,  37,   0],\n",
       "        [ 10,  59,   0],\n",
       "        [  0,  26,   0],\n",
       "        ...,\n",
       "        [217, 251, 251],\n",
       "        [213, 252, 254],\n",
       "        [211, 252, 254]]], dtype=uint8)"
      ]
     },
     "execution_count": 36,
     "metadata": {},
     "output_type": "execute_result"
    }
   ],
   "source": [
    "img_col"
   ]
  },
  {
   "cell_type": "code",
   "execution_count": 40,
   "metadata": {},
   "outputs": [
    {
     "ename": "AttributeError",
     "evalue": "'numpy.ndarray' object has no attribute 'str'",
     "output_type": "error",
     "traceback": [
      "\u001b[1;31m---------------------------------------------------------------------------\u001b[0m",
      "\u001b[1;31mAttributeError\u001b[0m                            Traceback (most recent call last)",
      "\u001b[1;32m<ipython-input-40-d4792b6dbe6b>\u001b[0m in \u001b[0;36m<module>\u001b[1;34m()\u001b[0m\n\u001b[1;32m----> 1\u001b[1;33m \u001b[0mimg_col\u001b[0m\u001b[1;33m.\u001b[0m\u001b[0mstr\u001b[0m\u001b[1;33m(\u001b[0m\u001b[1;33m)\u001b[0m\u001b[1;33m\u001b[0m\u001b[0m\n\u001b[0m",
      "\u001b[1;31mAttributeError\u001b[0m: 'numpy.ndarray' object has no attribute 'str'"
     ]
    }
   ],
   "source": []
  }
 ],
 "metadata": {
  "kernelspec": {
   "display_name": "Python 3",
   "language": "python",
   "name": "python3"
  },
  "language_info": {
   "codemirror_mode": {
    "name": "ipython",
    "version": 3
   },
   "file_extension": ".py",
   "mimetype": "text/x-python",
   "name": "python",
   "nbconvert_exporter": "python",
   "pygments_lexer": "ipython3",
   "version": "3.6.5"
  }
 },
 "nbformat": 4,
 "nbformat_minor": 2
}
