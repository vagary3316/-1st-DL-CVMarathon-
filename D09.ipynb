{
 "cells": [
  {
   "cell_type": "code",
   "execution_count": 1,
   "metadata": {},
   "outputs": [],
   "source": [
    "import numpy as np\n",
    "import cv2\n",
    "\n",
    "img = cv2.imread('mei.jpg')"
   ]
  },
  {
   "cell_type": "code",
   "execution_count": 21,
   "metadata": {},
   "outputs": [],
   "source": [
    "img_grey = cv2.cvtColor(img, cv2.COLOR_BGR2GRAY)\n",
    "\n",
    "SIFT_detector = cv2.xfeatures2d.SIFT_create()\n",
    "keypoints0 = SIFT_detector.detect(img[:,:,0], None)\n",
    "keypoints1 = SIFT_detector.detect(img[:,:,1], None)\n",
    "keypoints2 = SIFT_detector.detect(img[:,:,2], None)\n",
    "\n",
    "img_show0 = cv2.drawKeypoints(img, keypoints0,img)\n",
    "img_show1 = cv2.drawKeypoints(img, keypoints1,img)\n",
    "img_show2 = cv2.drawKeypoints(img, keypoints2,img)\n",
    "\n",
    "img_show = np.hstack((img_show0,img_show1,img_show2))\n",
    "img_show = cv2.resize(img_show,None,fx=0.4,fy=0.4)\n",
    "while True:\n",
    "    cv2.imshow('S', img_show)\n",
    "    k = cv2.waitKey(0)\n",
    "    if k == 27:\n",
    "        cv2.destroyAllWindows()\n",
    "        break"
   ]
  },
  {
   "cell_type": "code",
   "execution_count": 18,
   "metadata": {},
   "outputs": [],
   "source": [
    "keypoint0 = SIFT_detector.detect(img[:,:,0], None)\n"
   ]
  }
 ],
 "metadata": {
  "kernelspec": {
   "display_name": "Python 3",
   "language": "python",
   "name": "python3"
  },
  "language_info": {
   "codemirror_mode": {
    "name": "ipython",
    "version": 3
   },
   "file_extension": ".py",
   "mimetype": "text/x-python",
   "name": "python",
   "nbconvert_exporter": "python",
   "pygments_lexer": "ipython3",
   "version": "3.6.5"
  }
 },
 "nbformat": 4,
 "nbformat_minor": 2
}
