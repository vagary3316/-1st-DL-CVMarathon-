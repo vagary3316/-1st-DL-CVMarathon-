{
 "cells": [
  {
   "cell_type": "markdown",
   "id": "3e9cbd85",
   "metadata": {
    "papermill": {
     "duration": 0.009736,
     "end_time": "2022-05-23T08:12:57.270640",
     "exception": false,
     "start_time": "2022-05-23T08:12:57.260904",
     "status": "completed"
    },
    "tags": []
   },
   "source": [
    "## 『本次練習目的』\n",
    "  #### 熟悉CNN分類器搭建步驟與原理\n",
    "  #### 學員們可以嘗試不同搭法，如使用不同的Maxpooling層，用GlobalAveragePooling取代Flatten等等"
   ]
  },
  {
   "cell_type": "code",
   "execution_count": 1,
   "id": "5ba456de",
   "metadata": {
    "execution": {
     "iopub.execute_input": "2022-05-23T08:12:57.290216Z",
     "iopub.status.busy": "2022-05-23T08:12:57.289618Z",
     "iopub.status.idle": "2022-05-23T08:13:04.686222Z",
     "shell.execute_reply": "2022-05-23T08:13:04.685277Z"
    },
    "papermill": {
     "duration": 7.409765,
     "end_time": "2022-05-23T08:13:04.689244",
     "exception": false,
     "start_time": "2022-05-23T08:12:57.279479",
     "status": "completed"
    },
    "tags": []
   },
   "outputs": [],
   "source": [
    "from keras.models import Sequential\n",
    "from keras.layers import Convolution2D\n",
    "from keras.layers import MaxPooling2D\n",
    "from keras.layers import Flatten\n",
    "from keras.layers import Dense\n",
    "from keras.layers import Dropout\n",
    "from keras.layers import BatchNormalization\n",
    "\n",
    "from keras.datasets import cifar10\n",
    "import numpy as np\n",
    "import tensorflow as tf\n",
    "from sklearn.preprocessing import OneHotEncoder\n"
   ]
  },
  {
   "cell_type": "code",
   "execution_count": 2,
   "id": "e2a835c5",
   "metadata": {
    "execution": {
     "iopub.execute_input": "2022-05-23T08:13:04.708717Z",
     "iopub.status.busy": "2022-05-23T08:13:04.708402Z",
     "iopub.status.idle": "2022-05-23T08:13:16.166922Z",
     "shell.execute_reply": "2022-05-23T08:13:16.165856Z"
    },
    "papermill": {
     "duration": 11.471188,
     "end_time": "2022-05-23T08:13:16.169510",
     "exception": false,
     "start_time": "2022-05-23T08:13:04.698322",
     "status": "completed"
    },
    "tags": []
   },
   "outputs": [
    {
     "name": "stdout",
     "output_type": "stream",
     "text": [
      "Downloading data from https://www.cs.toronto.edu/~kriz/cifar-10-python.tar.gz\n",
      "170500096/170498071 [==============================] - 7s 0us/step\n",
      "170508288/170498071 [==============================] - 7s 0us/step\n",
      "(50000, 32, 32, 3)\n"
     ]
    }
   ],
   "source": [
    "(x_train, y_train), (x_test, y_test) = cifar10.load_data()\n",
    "\n",
    "print(x_train.shape) #(50000, 32, 32, 3)\n",
    "\n",
    "## Normalize Data\n",
    "def normalize(X_train,X_test):\n",
    "        mean = np.mean(X_train,axis=(0,1,2,3))\n",
    "        std = np.std(X_train, axis=(0, 1, 2, 3))\n",
    "        X_train = (X_train-mean)/(std+1e-7)\n",
    "        X_test = (X_test-mean)/(std+1e-7) \n",
    "        return X_train, X_test,mean,std\n",
    "    \n",
    "    \n",
    "## Normalize Training and Testset    \n",
    "x_train, x_test,mean_train,std_train = normalize(x_train, x_test) "
   ]
  },
  {
   "cell_type": "code",
   "execution_count": 3,
   "id": "c1e5f1b0",
   "metadata": {
    "execution": {
     "iopub.execute_input": "2022-05-23T08:13:16.296013Z",
     "iopub.status.busy": "2022-05-23T08:13:16.295584Z",
     "iopub.status.idle": "2022-05-23T08:13:16.315136Z",
     "shell.execute_reply": "2022-05-23T08:13:16.314518Z"
    },
    "papermill": {
     "duration": 0.084913,
     "end_time": "2022-05-23T08:13:16.317552",
     "exception": false,
     "start_time": "2022-05-23T08:13:16.232639",
     "status": "completed"
    },
    "tags": []
   },
   "outputs": [],
   "source": [
    "## OneHot Label 由(None, 1)-(None, 10)\n",
    "## ex. label=2,變成[0,0,1,0,0,0,0,0,0,0]\n",
    "one_hot=OneHotEncoder()\n",
    "y_train=one_hot.fit_transform(y_train).toarray()\n",
    "y_test=one_hot.transform(y_test).toarray()"
   ]
  },
  {
   "cell_type": "markdown",
   "id": "2e2a8745",
   "metadata": {
    "papermill": {
     "duration": 0.062356,
     "end_time": "2022-05-23T08:13:16.441698",
     "exception": false,
     "start_time": "2022-05-23T08:13:16.379342",
     "status": "completed"
    },
    "tags": []
   },
   "source": [
    "## 預測新圖片，輸入影像前處理要與訓練時相同\n",
    "#### ((X-mean)/(std+1e-7) ):這裡的mean跟std是訓練集的\n",
    "## 維度如下方示範"
   ]
  },
  {
   "cell_type": "code",
   "execution_count": 4,
   "id": "ada10a66",
   "metadata": {
    "execution": {
     "iopub.execute_input": "2022-05-23T08:13:16.570695Z",
     "iopub.status.busy": "2022-05-23T08:13:16.570097Z",
     "iopub.status.idle": "2022-05-23T08:34:41.609497Z",
     "shell.execute_reply": "2022-05-23T08:34:41.608622Z"
    },
    "papermill": {
     "duration": 1285.107616,
     "end_time": "2022-05-23T08:34:41.612050",
     "exception": false,
     "start_time": "2022-05-23T08:13:16.504434",
     "status": "completed"
    },
    "tags": []
   },
   "outputs": [
    {
     "name": "stderr",
     "output_type": "stream",
     "text": [
      "2022-05-23 08:13:16.614892: I tensorflow/core/common_runtime/process_util.cc:146] Creating new thread pool with default inter op setting: 2. Tune using inter_op_parallelism_threads for best performance.\n",
      "2022-05-23 08:13:18.085111: I tensorflow/compiler/mlir/mlir_graph_optimization_pass.cc:185] None of the MLIR Optimization Passes are enabled (registered 2)\n"
     ]
    },
    {
     "name": "stdout",
     "output_type": "stream",
     "text": [
      "Epoch 1/10\n",
      "500/500 [==============================] - 128s 253ms/step - loss: 1.5582 - accuracy: 0.4411\n",
      "Epoch 2/10\n",
      "500/500 [==============================] - 126s 252ms/step - loss: 1.0969 - accuracy: 0.6096\n",
      "Epoch 3/10\n",
      "500/500 [==============================] - 128s 255ms/step - loss: 0.8948 - accuracy: 0.6860\n",
      "Epoch 4/10\n",
      "500/500 [==============================] - 128s 256ms/step - loss: 0.7743 - accuracy: 0.7329\n",
      "Epoch 5/10\n",
      "500/500 [==============================] - 128s 255ms/step - loss: 0.6842 - accuracy: 0.7622\n",
      "Epoch 6/10\n",
      "500/500 [==============================] - 129s 257ms/step - loss: 0.6174 - accuracy: 0.7871\n",
      "Epoch 7/10\n",
      "500/500 [==============================] - 128s 256ms/step - loss: 0.5641 - accuracy: 0.8049\n",
      "Epoch 8/10\n",
      "500/500 [==============================] - 128s 257ms/step - loss: 0.5168 - accuracy: 0.8206\n",
      "Epoch 9/10\n",
      "500/500 [==============================] - 131s 261ms/step - loss: 0.4787 - accuracy: 0.8328\n",
      "Epoch 10/10\n",
      "500/500 [==============================] - 131s 262ms/step - loss: 0.4390 - accuracy: 0.8459\n"
     ]
    },
    {
     "data": {
      "text/plain": [
       "<keras.callbacks.History at 0x7fb6c365d910>"
      ]
     },
     "execution_count": 4,
     "metadata": {},
     "output_type": "execute_result"
    }
   ],
   "source": [
    "\n",
    "classifier=Sequential()\n",
    "\n",
    "#卷積組合\n",
    "classifier.add(Convolution2D(32,(3,3),input_shape=(32,32,3),activation='relu',padding='same'))#32,3,3,input_shape=(32,32,3),activation='relu''\n",
    "classifier.add(Convolution2D(32,(3,3),activation='relu',padding='same'))\n",
    "classifier.add(BatchNormalization())\n",
    "'''自己決定MaxPooling2D放在哪裡'''\n",
    "classifier.add(MaxPooling2D(pool_size =(2,2)))\n",
    "classifier.add(Dropout(0.2))\n",
    "\n",
    "#卷積組合\n",
    "classifier.add(Convolution2D(64,(3,3),activation='relu',padding='same'))\n",
    "classifier.add(Convolution2D(64,(3,3),activation='relu',padding='same'))\n",
    "classifier.add(BatchNormalization())\n",
    "classifier.add(MaxPooling2D(pool_size =(2,2)))\n",
    "classifier.add(Dropout(0.2))\n",
    "\n",
    "classifier.add(Convolution2D(128,(3,3),activation='relu',padding='same'))\n",
    "classifier.add(Convolution2D(128,(3,3),activation='relu',padding='same'))\n",
    "classifier.add(BatchNormalization())\n",
    "classifier.add(MaxPooling2D(pool_size =(2,2)))\n",
    "classifier.add(Dropout(0.2))\n",
    "\n",
    "\n",
    "\n",
    "#flatten\n",
    "classifier.add(Flatten())\n",
    "\n",
    "#FC\n",
    "classifier.add(Dense(128,activation='relu')) #\n",
    "classifier.add(Dropout(0.2))\n",
    "#輸出\n",
    "classifier.add(Dense(10,activation='softmax'))\n",
    "\n",
    "#超過兩個就要選categorical_crossentrophy\n",
    "classifier.compile(loss='categorical_crossentropy', optimizer='adam', metrics=['accuracy'])\n",
    "classifier.fit(x_train, y_train, epochs=10, batch_size=100, verbose=1)"
   ]
  },
  {
   "cell_type": "code",
   "execution_count": 5,
   "id": "a5a17a1a",
   "metadata": {
    "execution": {
     "iopub.execute_input": "2022-05-23T08:34:45.503670Z",
     "iopub.status.busy": "2022-05-23T08:34:45.503195Z",
     "iopub.status.idle": "2022-05-23T08:34:45.520357Z",
     "shell.execute_reply": "2022-05-23T08:34:45.519485Z"
    },
    "papermill": {
     "duration": 1.942347,
     "end_time": "2022-05-23T08:34:45.523723",
     "exception": false,
     "start_time": "2022-05-23T08:34:43.581376",
     "status": "completed"
    },
    "tags": []
   },
   "outputs": [
    {
     "name": "stdout",
     "output_type": "stream",
     "text": [
      "Model: \"sequential\"\n",
      "_________________________________________________________________\n",
      "Layer (type)                 Output Shape              Param #   \n",
      "=================================================================\n",
      "conv2d (Conv2D)              (None, 32, 32, 32)        896       \n",
      "_________________________________________________________________\n",
      "conv2d_1 (Conv2D)            (None, 32, 32, 32)        9248      \n",
      "_________________________________________________________________\n",
      "batch_normalization (BatchNo (None, 32, 32, 32)        128       \n",
      "_________________________________________________________________\n",
      "max_pooling2d (MaxPooling2D) (None, 16, 16, 32)        0         \n",
      "_________________________________________________________________\n",
      "dropout (Dropout)            (None, 16, 16, 32)        0         \n",
      "_________________________________________________________________\n",
      "conv2d_2 (Conv2D)            (None, 16, 16, 64)        18496     \n",
      "_________________________________________________________________\n",
      "conv2d_3 (Conv2D)            (None, 16, 16, 64)        36928     \n",
      "_________________________________________________________________\n",
      "batch_normalization_1 (Batch (None, 16, 16, 64)        256       \n",
      "_________________________________________________________________\n",
      "max_pooling2d_1 (MaxPooling2 (None, 8, 8, 64)          0         \n",
      "_________________________________________________________________\n",
      "dropout_1 (Dropout)          (None, 8, 8, 64)          0         \n",
      "_________________________________________________________________\n",
      "conv2d_4 (Conv2D)            (None, 8, 8, 128)         73856     \n",
      "_________________________________________________________________\n",
      "conv2d_5 (Conv2D)            (None, 8, 8, 128)         147584    \n",
      "_________________________________________________________________\n",
      "batch_normalization_2 (Batch (None, 8, 8, 128)         512       \n",
      "_________________________________________________________________\n",
      "max_pooling2d_2 (MaxPooling2 (None, 4, 4, 128)         0         \n",
      "_________________________________________________________________\n",
      "dropout_2 (Dropout)          (None, 4, 4, 128)         0         \n",
      "_________________________________________________________________\n",
      "flatten (Flatten)            (None, 2048)              0         \n",
      "_________________________________________________________________\n",
      "dense (Dense)                (None, 128)               262272    \n",
      "_________________________________________________________________\n",
      "dropout_3 (Dropout)          (None, 128)               0         \n",
      "_________________________________________________________________\n",
      "dense_1 (Dense)              (None, 10)                1290      \n",
      "=================================================================\n",
      "Total params: 551,466\n",
      "Trainable params: 551,018\n",
      "Non-trainable params: 448\n",
      "_________________________________________________________________\n",
      "None\n"
     ]
    }
   ],
   "source": [
    "print(classifier.summary())"
   ]
  },
  {
   "cell_type": "code",
   "execution_count": 6,
   "id": "59040ed8",
   "metadata": {
    "execution": {
     "iopub.execute_input": "2022-05-23T08:34:49.392263Z",
     "iopub.status.busy": "2022-05-23T08:34:49.392005Z",
     "iopub.status.idle": "2022-05-23T08:34:49.631935Z",
     "shell.execute_reply": "2022-05-23T08:34:49.630917Z"
    },
    "papermill": {
     "duration": 2.168289,
     "end_time": "2022-05-23T08:34:49.634135",
     "exception": false,
     "start_time": "2022-05-23T08:34:47.465846",
     "status": "completed"
    },
    "tags": []
   },
   "outputs": [
    {
     "data": {
      "text/plain": [
       "array([[3.8446716e-04, 5.6799322e-06, 4.6570422e-03, 9.0540421e-01,\n",
       "        8.0583245e-02, 1.7677125e-03, 1.2051166e-03, 1.7416473e-04,\n",
       "        5.5595781e-03, 2.5877121e-04]], dtype=float32)"
      ]
     },
     "execution_count": 6,
     "metadata": {},
     "output_type": "execute_result"
    }
   ],
   "source": [
    "input_example=(np.zeros(shape=(1,32,32,3))-mean_train)/(std_train+1e-7) \n",
    "classifier.predict(input_example)"
   ]
  }
 ],
 "metadata": {
  "kernelspec": {
   "display_name": "Python 3",
   "language": "python",
   "name": "python3"
  },
  "language_info": {
   "codemirror_mode": {
    "name": "ipython",
    "version": 3
   },
   "file_extension": ".py",
   "mimetype": "text/x-python",
   "name": "python",
   "nbconvert_exporter": "python",
   "pygments_lexer": "ipython3",
   "version": "3.7.12"
  },
  "papermill": {
   "default_parameters": {},
   "duration": 1328.04911,
   "end_time": "2022-05-23T08:34:54.872037",
   "environment_variables": {},
   "exception": null,
   "input_path": "__notebook__.ipynb",
   "output_path": "__notebook__.ipynb",
   "parameters": {},
   "start_time": "2022-05-23T08:12:46.822927",
   "version": "2.3.4"
  }
 },
 "nbformat": 4,
 "nbformat_minor": 5
}
