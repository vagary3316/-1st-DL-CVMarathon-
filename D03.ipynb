{
 "cells": [
  {
   "cell_type": "code",
   "execution_count": 4,
   "metadata": {},
   "outputs": [],
   "source": [
    "import cv2\n",
    "import numpy as np"
   ]
  },
  {
   "cell_type": "code",
   "execution_count": 5,
   "metadata": {},
   "outputs": [],
   "source": [
    "img = cv2.imread('mei.jpg',cv2.IMREAD_COLOR)"
   ]
  },
  {
   "cell_type": "code",
   "execution_count": 123,
   "metadata": {},
   "outputs": [],
   "source": [
    "img_hsv = cv2.cvtColor(img, cv2.COLOR_BGR2HSV)\n",
    "alpha = 0.2"
   ]
  },
  {
   "cell_type": "code",
   "execution_count": 124,
   "metadata": {},
   "outputs": [],
   "source": [
    "img_hsv_down =  img_hsv.astype('float32')\n",
    "img_hsv_up = img_hsv.astype('float32')\n"
   ]
  },
  {
   "cell_type": "code",
   "execution_count": 125,
   "metadata": {},
   "outputs": [],
   "source": [
    "img_hsv_down[...,2] = img_hsv_down[...,2]/255-alpha\n",
    "img_hsv_down[img_hsv_down[...,2]<0]=0\n",
    "img_hsv_down[...,2] = img_hsv_down[...,2] * 255\n",
    "down = img_hsv_down.astype('uint8')\n",
    "img_down = cv2.cvtColor(down, cv2.COLOR_HSV2BGR)\n",
    "\n",
    "\n",
    "\n",
    "\n",
    "img_hsv_up[...,2] = img_hsv_up[...,2]/255+ alpha\n",
    "img_hsv_up[img_hsv_up[...,2]>1]=1\n",
    "img_hsv_up[...,2] = img_hsv_up[...,2] * 255\n",
    "up = img_hsv_up.astype('uint8')\n",
    "img_up = cv2.cvtColor(up, cv2.COLOR_HSV2BGR)\n"
   ]
  },
  {
   "cell_type": "code",
   "execution_count": 126,
   "metadata": {},
   "outputs": [],
   "source": [
    "img_all = np.hstack((img, img_down, img_up))\n",
    "\n",
    "while True:\n",
    "    cv2.imshow('o', img)\n",
    "    cv2.imshow('up',img_up)\n",
    "    cv2.imshow('down',img_down)\n",
    "    \n",
    "    k=cv2.waitKey(0)\n",
    "    if k == 27:\n",
    "        cv2.destroyAllWindows()\n",
    "        break"
   ]
  },
  {
   "cell_type": "markdown",
   "metadata": {},
   "source": [
    "### 直方圖均衡"
   ]
  },
  {
   "cell_type": "code",
   "execution_count": 6,
   "metadata": {},
   "outputs": [],
   "source": [
    "img_gray = cv2.cvtColor(img, cv2.COLOR_BGR2GRAY)\n",
    "\n",
    "img_gray_equal = cv2.equalizeHist(img_gray)"
   ]
  },
  {
   "cell_type": "code",
   "execution_count": 7,
   "metadata": {},
   "outputs": [],
   "source": [
    "img_gray_equalHist = np.hstack((img_gray, img_gray_equal))\n",
    "while True:\n",
    "    cv2.imshow('gray equal histogram', img_gray_equalHist)\n",
    "    \n",
    "    k = cv2.waitKey(0)\n",
    "    if k == 27:\n",
    "        cv2.destroyAllWindows()\n",
    "        break"
   ]
  },
  {
   "cell_type": "markdown",
   "metadata": {},
   "source": [
    "#### 調整對比/明亮\n",
    "#### alpha : 控制對比度(1.0~3.0)\n",
    "#### beta : 控制明亮度(0~255)"
   ]
  },
  {
   "cell_type": "code",
   "execution_count": 8,
   "metadata": {},
   "outputs": [],
   "source": [
    "add_contrast = cv2.convertScaleAbs(img, alpha = 2.0, beta = 0)\n",
    "add_lightness = cv2.convertScaleAbs(img, alpha = 1.0, beta = 50)"
   ]
  },
  {
   "cell_type": "code",
   "execution_count": 10,
   "metadata": {},
   "outputs": [],
   "source": [
    "while True:\n",
    "    cv2.imshow('contrast', add_contrast)\n",
    "    cv2.imshow('lightness', add_lightness)\n",
    "    k = cv2.waitKey(0)\n",
    "    if k == 27:\n",
    "        cv2.destroyAllWindows()\n",
    "        break"
   ]
  }
 ],
 "metadata": {
  "kernelspec": {
   "display_name": "Python 3",
   "language": "python",
   "name": "python3"
  },
  "language_info": {
   "codemirror_mode": {
    "name": "ipython",
    "version": 3
   },
   "file_extension": ".py",
   "mimetype": "text/x-python",
   "name": "python",
   "nbconvert_exporter": "python",
   "pygments_lexer": "ipython3",
   "version": "3.6.5"
  }
 },
 "nbformat": 4,
 "nbformat_minor": 2
}
