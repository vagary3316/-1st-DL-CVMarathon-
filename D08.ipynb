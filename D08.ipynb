{
 "cells": [
  {
   "cell_type": "code",
   "execution_count": 62,
   "metadata": {},
   "outputs": [],
   "source": [
    "import cv2\n",
    "import numpy as np\n",
    "\n",
    "img = cv2.imread('mei.jpg')"
   ]
  },
  {
   "cell_type": "code",
   "execution_count": 46,
   "metadata": {},
   "outputs": [],
   "source": [
    "img_grey = cv2.cvtColor(img, cv2.COLOR_BGR2GRAY)"
   ]
  },
  {
   "cell_type": "markdown",
   "metadata": {},
   "source": [
    "#### 對x方向以包含負數的資料格式(cv2.CV_16S)進行 Sobel邊緣檢測"
   ]
  },
  {
   "cell_type": "code",
   "execution_count": 47,
   "metadata": {},
   "outputs": [],
   "source": [
    "img_sobel_x = cv2.Sobel(img_grey,\n",
    "                       cv2.CV_16S,\n",
    "                       dx=1,dy=0,\n",
    "                       ksize=3)"
   ]
  },
  {
   "cell_type": "markdown",
   "metadata": {},
   "source": [
    "#### 對x方向依照比例縮放到所有數值都是非負整數 "
   ]
  },
  {
   "cell_type": "code",
   "execution_count": 49,
   "metadata": {},
   "outputs": [],
   "source": [
    "img_sobel_x = cv2.convertScaleAbs(img_sobel_x)"
   ]
  },
  {
   "cell_type": "markdown",
   "metadata": {},
   "source": [
    "#### 對x方向直接以非負整數的資料格式(uint8)進行"
   ]
  },
  {
   "cell_type": "code",
   "execution_count": 50,
   "metadata": {},
   "outputs": [],
   "source": [
    "img_sobel_x_uint8 = cv2.Sobel(img_grey,\n",
    "                             cv2.CV_8U,\n",
    "                             dx=1, dy=0,\n",
    "                             ksize=3)"
   ]
  },
  {
   "cell_type": "code",
   "execution_count": 51,
   "metadata": {},
   "outputs": [],
   "source": [
    "img_all = np.hstack((img_grey,img_sobel_x,img_sobel_x_uint8))"
   ]
  },
  {
   "cell_type": "code",
   "execution_count": 52,
   "metadata": {},
   "outputs": [],
   "source": [
    "img_show = cv2.resize(img_all,None,fx=0.4,fy=0.4)"
   ]
  },
  {
   "cell_type": "code",
   "execution_count": 53,
   "metadata": {},
   "outputs": [],
   "source": [
    "while True:\n",
    "    cv2.imshow('a',img_show)\n",
    "    k = cv2.waitKey(0)\n",
    "    if k ==27:\n",
    "        cv2.destroyAllWindows()\n",
    "        break"
   ]
  },
  {
   "cell_type": "markdown",
   "metadata": {},
   "source": [
    "## 比較一次與兩次計算偏微分的結果"
   ]
  },
  {
   "cell_type": "code",
   "execution_count": 71,
   "metadata": {},
   "outputs": [],
   "source": [
    "img_grey = cv2.cvtColor(img, cv2.COLOR_BGR2GRAY)"
   ]
  },
  {
   "cell_type": "code",
   "execution_count": 72,
   "metadata": {},
   "outputs": [],
   "source": [
    "img_sobel_x = cv2.Sobel(img_grey,\n",
    "                       cv2.CV_16S,\n",
    "                       dx = 1, dy = 0,\n",
    "                       ksize = 3)\n",
    "img_sobel_x = cv2.convertScaleAbs(img_sobel_x)"
   ]
  },
  {
   "cell_type": "code",
   "execution_count": 73,
   "metadata": {},
   "outputs": [],
   "source": [
    "img_sobel_xx = cv2.Sobel(img_grey,\n",
    "                        cv2.CV_16S,\n",
    "                        dx = 2, dy = 0,\n",
    "                        ksize = 3)\n",
    "img_sobel_xx = cv2.convertScaleAbs(img_sobel_xx)"
   ]
  },
  {
   "cell_type": "code",
   "execution_count": 74,
   "metadata": {},
   "outputs": [],
   "source": [
    "img_1 = np.hstack((img_grey,img_sobel_x,img_sobel_xx))"
   ]
  },
  {
   "cell_type": "code",
   "execution_count": 75,
   "metadata": {},
   "outputs": [],
   "source": [
    "img_2 = cv2.resize(img_1,None,fx=0.4,fy=0.4)"
   ]
  },
  {
   "cell_type": "code",
   "execution_count": 76,
   "metadata": {},
   "outputs": [],
   "source": [
    "while True:\n",
    "    cv2.imshow('1',img_2)\n",
    "    k = cv2.waitKey(0)\n",
    "    if k ==27:\n",
    "        cv2.destroyAllWindows()\n",
    "        break\n",
    "    "
   ]
  },
  {
   "cell_type": "markdown",
   "metadata": {},
   "source": [
    "# 模糊 "
   ]
  },
  {
   "cell_type": "code",
   "execution_count": 63,
   "metadata": {},
   "outputs": [],
   "source": [
    "img_blur = img.copy()"
   ]
  },
  {
   "cell_type": "code",
   "execution_count": 64,
   "metadata": {},
   "outputs": [],
   "source": [
    "img_blur = cv2.GaussianBlur(img_blur, (5,5), 0)\n",
    "img_blur = cv2.GaussianBlur(img_blur, (5,5), 0)\n",
    "img_blur = cv2.GaussianBlur(img_blur, (5,5), 0)"
   ]
  },
  {
   "cell_type": "code",
   "execution_count": 67,
   "metadata": {},
   "outputs": [],
   "source": [
    "img_1 = np.hstack((img,img_blur))\n",
    "img_show = cv2.resize(img_1,None,fx=0.4,fy=0.4)"
   ]
  },
  {
   "cell_type": "code",
   "execution_count": 68,
   "metadata": {},
   "outputs": [],
   "source": [
    "while True:\n",
    "    cv2.imshow('blur', img_show)\n",
    "    k = cv2.waitKey(0)\n",
    "    if k == 27:\n",
    "        cv2.destroyAllWindows()\n",
    "        break"
   ]
  },
  {
   "cell_type": "markdown",
   "metadata": {},
   "source": [
    "#  "
   ]
  },
  {
   "cell_type": "code",
   "execution_count": 70,
   "metadata": {},
   "outputs": [],
   "source": [
    "img = cv2.imread('mei.jpg')\n",
    "img_grey = cv2.cvtColor(img, cv2.COLOR_BGR2GRAY)"
   ]
  },
  {
   "cell_type": "code",
   "execution_count": 77,
   "metadata": {},
   "outputs": [],
   "source": [
    "img_sobel_x = cv2.Sobel(img_grey,\n",
    "                        cv2.CV_16S,\n",
    "                        dx = 1,dy = 0,\n",
    "                        ksize= 3)\n",
    "img_sobel_x = cv2.convertScaleAbs(img_sobel_x)"
   ]
  },
  {
   "cell_type": "code",
   "execution_count": 78,
   "metadata": {},
   "outputs": [],
   "source": [
    "img_sobel_y = cv2.Sobel(img_grey,\n",
    "                        cv2.CV_16S,\n",
    "                        dx = 0,dy = 1,\n",
    "                        ksize= 3)\n",
    "img_sobel_y = cv2.convertScaleAbs(img_sobel_y)"
   ]
  },
  {
   "cell_type": "code",
   "execution_count": 79,
   "metadata": {},
   "outputs": [],
   "source": [
    "img_sobel_combine = cv2.addWeighted(img_sobel_x,0.5,img_sobel_y,0.5,0)"
   ]
  },
  {
   "cell_type": "code",
   "execution_count": 80,
   "metadata": {},
   "outputs": [],
   "source": [
    "img_3 = np.hstack((img_sobel_x,img_sobel_y,img_sobel_combine))\n",
    "img_4 = cv2.resize(img_3,None,fx=0.4,fy=0.4)"
   ]
  },
  {
   "cell_type": "code",
   "execution_count": 81,
   "metadata": {},
   "outputs": [],
   "source": [
    "while True:\n",
    "    cv2.imshow('10',img_4)\n",
    "    k = cv2.waitKey(0)\n",
    "    if k ==27:\n",
    "        cv2.destroyAllWindows()\n",
    "        break"
   ]
  }
 ],
 "metadata": {
  "kernelspec": {
   "display_name": "Python 3",
   "language": "python",
   "name": "python3"
  },
  "language_info": {
   "codemirror_mode": {
    "name": "ipython",
    "version": 3
   },
   "file_extension": ".py",
   "mimetype": "text/x-python",
   "name": "python",
   "nbconvert_exporter": "python",
   "pygments_lexer": "ipython3",
   "version": "3.6.5"
  }
 },
 "nbformat": 4,
 "nbformat_minor": 2
}
